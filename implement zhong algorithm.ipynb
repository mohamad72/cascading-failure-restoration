{
 "cells": [
  {
   "cell_type": "markdown",
   "metadata": {},
   "source": [
    "# 0- imports"
   ]
  },
  {
   "cell_type": "code",
   "execution_count": 1,
   "metadata": {},
   "outputs": [],
   "source": [
    "import numpy as np\n",
    "import math\n",
    "import random\n",
    "import matplotlib.pyplot as plt\n",
    "import random\n",
    "import networkx as nx"
   ]
  },
  {
   "cell_type": "markdown",
   "metadata": {},
   "source": [
    "# 1- generate random network \n",
    "##    1-1- with poisson distribution"
   ]
  },
  {
   "cell_type": "markdown",
   "metadata": {},
   "source": [
    "### 1-1-1- initial varibles"
   ]
  },
  {
   "cell_type": "code",
   "execution_count": 2,
   "metadata": {},
   "outputs": [],
   "source": [
    "class RandomNetworkPoisson:\n",
    "    def __init__(self, numberOfNode):\n",
    "        self.ourNet=nx.gnm_random_graph(numberOfNode, 2.3*sum(np.random.poisson(1, size=numberOfNode)))\n",
    "        self.numberOfNode = numberOfNode\n",
    "        self.wpr=[0]*self.numberOfNode\n",
    "        self.data = [[0]*self.numberOfNode for _ in range(self.numberOfNode)]\n",
    "        self.inComing=[]\n",
    "        self.currentQueue = [0]*self.numberOfNode\n",
    "        self.totalQueue = [100]*self.numberOfNode\n",
    "        for i in range (0, self.numberOfNode):\n",
    "            self.inComing.append(list(self.ourNet.degree)[i][1])\n",
    "        for i in range (0, self.numberOfNode):\n",
    "            for f in range(0,self.numberOfNode):\n",
    "                if self.ourNet.has_edge(i,f):\n",
    "                    self.data[i][f]=1"
   ]
  },
  {
   "cell_type": "markdown",
   "metadata": {},
   "source": [
    "### 1-1-2- generate"
   ]
  },
  {
   "cell_type": "code",
   "execution_count": 3,
   "metadata": {},
   "outputs": [],
   "source": [
    "ER1 = RandomNetworkPoisson(100)\n",
    "ER2 = RandomNetworkPoisson(100)"
   ]
  },
  {
   "cell_type": "markdown",
   "metadata": {},
   "source": [
    "### 1-1-3- plotting degree Frequency"
   ]
  },
  {
   "cell_type": "code",
   "execution_count": 4,
   "metadata": {},
   "outputs": [
    {
     "data": {
      "image/png": "[encoded data removed]",
      "text/plain": [
       "<Figure size 432x288 with 1 Axes>"
      ]
     },
     "metadata": {
      "needs_background": "light"
     },
     "output_type": "display_data"
    }
   ],
   "source": [
    "plt.hist(ER1.inComing, 100)\n",
    "plt.show()"
   ]
  },
  {
   "cell_type": "markdown",
   "metadata": {},
   "source": [
    "##    1-2- with Exponential distribution"
   ]
  },
  {
   "cell_type": "markdown",
   "metadata": {},
   "source": [
    "### 1-2-1- initial varibles"
   ]
  },
  {
   "cell_type": "code",
   "execution_count": 5,
   "metadata": {},
   "outputs": [],
   "source": [
    "class RandomNetworkExponential:\n",
    "    def __init__(self, numberOfNode):\n",
    "        self.numberOfNode = numberOfNode\n",
    "        self.data = [[0]*self.numberOfNode for _ in range(self.numberOfNode)]\n",
    "        self.inComing=np.random.exponential(1, size=self.numberOfNode)\n",
    "        self.currentQueue = [0]*self.numberOfNode\n",
    "        self.totalQueue = [100]*self.numberOfNode\n",
    "        self.wpr=[0]*self.numberOfNode\n",
    "        for i in range (0, self.numberOfNode):\n",
    "            my_list = np.arange(0,self.numberOfNode).tolist()\n",
    "            my_list.remove(i)                        \n",
    "            random.shuffle(my_list)\n",
    "            my_list2=my_list[0:self.inComing[i]]\n",
    "            for f in range(0,self.numberOfNode):\n",
    "                if f in my_list2:\n",
    "                    self.data[i][f]=1\n",
    "        self.outComing=[0]*self.numberOfNode\n",
    "        for i in range (0, self.numberOfNode):\n",
    "            for j in range (0, self.numberOfNode):\n",
    "                if self.data[i][j]==1:\n",
    "                    self.outComing[i]=self.outComing[i]+1"
   ]
  },
  {
   "cell_type": "markdown",
   "metadata": {},
   "source": [
    "### 1-2-2- generate"
   ]
  },
  {
   "cell_type": "code",
   "execution_count": 6,
   "metadata": {},
   "outputs": [],
   "source": [
    "# ER3 = RandomNetworkExponential(2500)\n",
    "# ER4 = RandomNetworkExponential(2500)"
   ]
  },
  {
   "cell_type": "markdown",
   "metadata": {},
   "source": [
    "### 1-2-3- plotting degree Frequency"
   ]
  },
  {
   "cell_type": "code",
   "execution_count": 7,
   "metadata": {},
   "outputs": [],
   "source": [
    "# plt.hist(ER3.inComing, 200)\n",
    "# plt.show()"
   ]
  },
  {
   "cell_type": "markdown",
   "metadata": {},
   "source": [
    "# 2- generate scale free network"
   ]
  },
  {
   "cell_type": "markdown",
   "metadata": {},
   "source": [
    "## 2-1- initial varibles"
   ]
  },
  {
   "cell_type": "code",
   "execution_count": 8,
   "metadata": {},
   "outputs": [],
   "source": [
    "class ScaleFreeNetwork:\n",
    "    def __init__(self, numberOfNode):\n",
    "        self.numberOfNode = numberOfNode\n",
    "        self.data = [[0]*self.numberOfNode for _ in range(self.numberOfNode)]\n",
    "        self.inComing = [0]*self.numberOfNode\n",
    "        self.currentQueue = [0]*self.numberOfNode\n",
    "        self.totalQueue = [100]*self.numberOfNode\n",
    "        self.wpr=[0]*self.numberOfNode\n",
    "        my_list_scale = np.arange(0,self.numberOfNode).tolist()    \n",
    "        random.shuffle(my_list_scale)\n",
    "        for i in range (0, len(my_list_scale)):\n",
    "            self.inComing[my_list_scale[i]]=11-int(math.log(i+1,2))\n",
    "            if i>=2047:\n",
    "                self.inComing[my_list_scale[i]]=1\n",
    "        for i in range (0, self.numberOfNode):\n",
    "            my_list = np.arange(0,self.numberOfNode).tolist()\n",
    "            my_list.remove(i)                        \n",
    "            random.shuffle(my_list)\n",
    "            my_list2=my_list[0:self.inComing[i]]\n",
    "            for f in range(0,self.numberOfNode):\n",
    "                if f in my_list2:\n",
    "                    self.data[i][f]=1\n",
    "        self.outComing=[0]*self.numberOfNode\n",
    "        for i in range (0, self.numberOfNode):\n",
    "            for j in range (0, self.numberOfNode):\n",
    "                if self.data[i][j]==1:\n",
    "                    self.outComing[i]=self.outComing[i]+1"
   ]
  },
  {
   "cell_type": "markdown",
   "metadata": {},
   "source": [
    "### 2-2- generate"
   ]
  },
  {
   "cell_type": "code",
   "execution_count": 9,
   "metadata": {
    "scrolled": true
   },
   "outputs": [],
   "source": [
    "SF1 = ScaleFreeNetwork(500)\n",
    "SF2 = ScaleFreeNetwork(500)"
   ]
  },
  {
   "cell_type": "markdown",
   "metadata": {},
   "source": [
    "## 2-3- plotting degree Frequency"
   ]
  },
  {
   "cell_type": "code",
   "execution_count": 10,
   "metadata": {},
   "outputs": [
    {
     "data": {
      "image/png": "[encoded data removed]",
      "text/plain": [
       "<Figure size 432x288 with 1 Axes>"
      ]
     },
     "metadata": {
      "needs_background": "light"
     },
     "output_type": "display_data"
    }
   ],
   "source": [
    "plt.hist(SF1.inComing, 100)\n",
    "plt.show()"
   ]
  },
  {
   "cell_type": "markdown",
   "metadata": {},
   "source": [
    "# 3- mixing networks for making interdent network"
   ]
  },
  {
   "cell_type": "markdown",
   "metadata": {},
   "source": [
    "## 3-1- define params"
   ]
  },
  {
   "cell_type": "code",
   "execution_count": 11,
   "metadata": {},
   "outputs": [],
   "source": [
    "couplingStrength=1.0"
   ]
  },
  {
   "cell_type": "markdown",
   "metadata": {},
   "source": [
    "## 3-2- generate"
   ]
  },
  {
   "cell_type": "code",
   "execution_count": 12,
   "metadata": {},
   "outputs": [],
   "source": [
    "class InterdependentNetwork:\n",
    "    def __init__(self,networkA,networkB,couplingStrength):\n",
    "        self.couplingStrength = couplingStrength\n",
    "        self.networkA = networkA\n",
    "        self.networkB = networkB\n",
    "        self.neighborA = np.arange(0,self.networkA.numberOfNode).tolist()              \n",
    "        random.shuffle(self.neighborA)\n",
    "        self.neighborB = np.arange(0,self.networkB.numberOfNode).tolist()              \n",
    "        random.shuffle(self.neighborB)\n",
    "        self.numberOfneighbor=int(self.couplingStrength*self.networkB.numberOfNode)\n",
    "        self.neighborA=self.neighborA[0:self.numberOfneighbor]\n",
    "        self.neighborB=self.neighborB[0:self.numberOfneighbor]"
   ]
  },
  {
   "cell_type": "code",
   "execution_count": 13,
   "metadata": {
    "scrolled": true
   },
   "outputs": [],
   "source": [
    "ER_ER_Network=InterdependentNetwork(ER1,ER2,couplingStrength)"
   ]
  },
  {
   "cell_type": "markdown",
   "metadata": {},
   "source": [
    "# 4- starting algorithm"
   ]
  },
  {
   "cell_type": "markdown",
   "metadata": {},
   "source": [
    "## 4-1- define params"
   ]
  },
  {
   "cell_type": "code",
   "execution_count": 14,
   "metadata": {},
   "outputs": [],
   "source": [
    "R=[1,5,10,50]\n",
    "numberOfdays=20"
   ]
  },
  {
   "cell_type": "code",
   "execution_count": 15,
   "metadata": {},
   "outputs": [],
   "source": [
    "def sizeOfG(ER_ER_Network,failsNodesA,failsNodesB):\n",
    "    visitedA = [0]*ER_ER_Network.networkA.numberOfNode\n",
    "    visitedB = [0]*ER_ER_Network.networkB.numberOfNode\n",
    "    \n",
    "    stackOfDfsIndex=[]\n",
    "    stackOfDfsType=[]\n",
    "    SizeOfMaxComponent=0;\n",
    "    while 0 in visitedA or 0 in visitedB:\n",
    "        SizeOfCurrentComponent=0;\n",
    "        if 0 in visitedA:\n",
    "            stackOfDfsIndex.append(visitedA.index(0)) \n",
    "            stackOfDfsType.append('A')\n",
    "        else:\n",
    "            stackOfDfsIndex.append(visitedB.index(0)) \n",
    "            stackOfDfsType.append('B') \n",
    "        while len(stackOfDfsIndex)>0:\n",
    "            currentNode=stackOfDfsIndex.pop()\n",
    "            currentType=stackOfDfsType.pop()\n",
    "            if currentType=='A' and (visitedA[currentNode]==1 or currentNode in failsNodesA):\n",
    "                visitedA[currentNode]=1\n",
    "                continue\n",
    "            if currentType=='B' and (visitedB[currentNode]==1 or currentNode in failsNodesB):\n",
    "                visitedB[currentNode]=1\n",
    "                continue\n",
    "            SizeOfCurrentComponent += 1\n",
    "            if SizeOfCurrentComponent > SizeOfMaxComponent:\n",
    "                SizeOfMaxComponent = SizeOfCurrentComponent\n",
    "                \n",
    "            if currentType=='A':\n",
    "                visitedA[currentNode]=1\n",
    "                indices = [i for i, x in enumerate(ER_ER_Network.networkA.data[currentNode]) if x == 1]\n",
    "                stackOfDfsIndex.extend(indices)\n",
    "                stackOfDfsType.extend(['A']*len(indices))\n",
    "                if currentNode in ER_ER_Network.neighborA:\n",
    "                    stackOfDfsIndex.append(ER_ER_Network.neighborB[ER_ER_Network.neighborA.index(currentNode)])\n",
    "                    stackOfDfsType.append('B')\n",
    "            if currentType=='B':\n",
    "                visitedB[currentNode]=1\n",
    "                indices = [i for i, x in enumerate(ER_ER_Network.networkB.data[currentNode]) if x == 1]\n",
    "                stackOfDfsIndex.extend(indices)\n",
    "                stackOfDfsType.extend(['B']*len(indices))\n",
    "                if currentNode in ER_ER_Network.neighborB:\n",
    "                    stackOfDfsIndex.append(ER_ER_Network.neighborA[ER_ER_Network.neighborB.index(currentNode)])\n",
    "                    stackOfDfsType.append('A')\n",
    "    return SizeOfMaxComponent/(ER_ER_Network.networkB.numberOfNode + ER_ER_Network.networkA.numberOfNode)"
   ]
  },
  {
   "cell_type": "code",
   "execution_count": 16,
   "metadata": {},
   "outputs": [],
   "source": [
    "def distrubuteQueue(network,nodeIndex,failsNodes):\n",
    "    indices = [i for i, x in enumerate(network.data[nodeIndex]) if x == 1]\n",
    "    notFailcounter=0\n",
    "    for i in range(0,len(indices)):\n",
    "        if indices[i] not in failsNodes:\n",
    "            notFailcounter += 1\n",
    "            \n",
    "    for i in range(0,len(indices)):\n",
    "        if indices[i] not in failsNodes:  \n",
    "            network.currentQueue[indices[i]] += network.currentQueue[nodeIndex]/notFailcounter       "
   ]
  },
  {
   "cell_type": "code",
   "execution_count": 17,
   "metadata": {},
   "outputs": [],
   "source": [
    "def findingCentrality(network,numberOfCentrality,failsNodesA,failsNodeB):\n",
    "    numberOfOut=[]\n",
    "    for nodeIndex in range(0,network.networkA.numberOfNode):\n",
    "        numberOfOut.append(len([i for i, x in enumerate(network.networkA.data[nodeIndex]) if x == 1]))\n",
    "    for nodeIndex in range(0,network.networkB.numberOfNode):\n",
    "        numberOfOut.append(len([i for i, x in enumerate(network.networkB.data[nodeIndex]) if x == 1]))\n",
    "    sortedNumberOfOut=list(np.argsort(numberOfOut))\n",
    "    sortedNumberOfOut.reverse()\n",
    "    return sortedNumberOfOut[0:numberOfCentrality]"
   ]
  },
  {
   "cell_type": "code",
   "execution_count": 18,
   "metadata": {},
   "outputs": [],
   "source": [
    "def startCascadingFailure(network,R,failsNodesA,failsNodesB):\n",
    "    print('start of cascading {}  {}'.format(len(failsNodesA),len(failsNodesB)))\n",
    "    listOfCentalityNode=findingCentrality(network,R,failsNodesA,failsNodesB)\n",
    "    for i in range(0,len(listOfCentalityNode)):\n",
    "        if listOfCentalityNode[i] < network.networkA.numberOfNode:\n",
    "            network.networkA.currentQueue[listOfCentalityNode[i]]=0\n",
    "            failsNodesA=list(filter(lambda a: a != listOfCentalityNode[i], failsNodesA))\n",
    "            if listOfCentalityNode[i] in ER_ER_Network.neighborA:\n",
    "                failsNodesB=list(filter(lambda a: a != ER_ER_Network.neighborB[ER_ER_Network.neighborA.index(listOfCentalityNode[i])], failsNodesB))\n",
    "        else:\n",
    "            network.networkB.currentQueue[listOfCentalityNode[i]-network.networkA.numberOfNode]=0\n",
    "            failsNodesB=list(filter(lambda a: a != listOfCentalityNode[i]-network.networkA.numberOfNode, failsNodesB))\n",
    "            if listOfCentalityNode[i]-network.networkA.numberOfNode in ER_ER_Network.neighborB:\n",
    "                failsNodesA=list(filter(lambda a: a != ER_ER_Network.neighborA[ER_ER_Network.neighborB.index(listOfCentalityNode[i]-network.networkA.numberOfNode)], failsNodesA))\n",
    "    print('end of cascading {}  {}'.format(len(failsNodesA),len(failsNodesB)))\n",
    "    return [failsNodesA,failsNodesB]"
   ]
  },
  {
   "cell_type": "markdown",
   "metadata": {},
   "source": [
    "## 4-2- define centrality like zhong et al."
   ]
  },
  {
   "cell_type": "code",
   "execution_count": 19,
   "metadata": {
    "scrolled": true
   },
   "outputs": [
    {
     "name": "stdout",
     "output_type": "stream",
     "text": [
      "R=1 t=0 and G = 0.02  \n",
      "start of cascading 0  0\n",
      "end of cascading 0  0\n",
      "R=1 t=1 and G = 0.02  \n",
      "start of cascading 55  55\n",
      "end of cascading 54  54\n",
      "R=1 t=2 and G = 0.02  \n",
      "start of cascading 88  88\n",
      "end of cascading 87  87\n",
      "R=1 t=3 and G = 0.02  \n",
      "start of cascading 92  92\n",
      "end of cascading 91  91\n",
      "R=1 t=4 and G = 0.02  \n",
      "start of cascading 93  93\n",
      "end of cascading 92  92\n",
      "R=1 t=5 and G = 0.02  \n",
      "start of cascading 93  93\n",
      "end of cascading 92  92\n",
      "R=1 t=6 and G = 0.02  \n",
      "start of cascading 93  93\n",
      "end of cascading 92  92\n",
      "R=1 t=7 and G = 0.02  \n",
      "start of cascading 93  93\n",
      "end of cascading 92  92\n",
      "R=1 t=8 and G = 0.02  \n",
      "start of cascading 93  93\n",
      "end of cascading 92  92\n",
      "R=1 t=9 and G = 0.02  \n",
      "start of cascading 93  93\n",
      "end of cascading 92  92\n",
      "R=1 t=10 and G = 0.02  \n",
      "start of cascading 93  93\n",
      "end of cascading 92  92\n",
      "R=1 t=11 and G = 0.02  \n",
      "start of cascading 93  93\n",
      "end of cascading 92  92\n",
      "R=1 t=12 and G = 0.02  \n",
      "start of cascading 93  93\n",
      "end of cascading 92  92\n",
      "R=1 t=13 and G = 0.02  \n",
      "start of cascading 93  93\n",
      "end of cascading 92  92\n",
      "R=1 t=14 and G = 0.02  \n",
      "start of cascading 93  93\n",
      "end of cascading 92  92\n",
      "R=1 t=15 and G = 0.02  \n",
      "start of cascading 93  93\n",
      "end of cascading 92  92\n",
      "R=1 t=16 and G = 0.02  \n",
      "start of cascading 93  93\n",
      "end of cascading 92  92\n",
      "R=1 t=17 and G = 0.02  \n",
      "start of cascading 93  93\n",
      "end of cascading 92  92\n",
      "R=1 t=18 and G = 0.02  \n",
      "start of cascading 93  93\n",
      "end of cascading 92  92\n",
      "R=1 t=19 and G = 0.02  \n",
      "---------------------------------------\n",
      "R=5 t=0 and G = 0.02  \n",
      "start of cascading 0  0\n",
      "end of cascading 0  0\n",
      "R=5 t=1 and G = 0.24  \n",
      "start of cascading 55  55\n",
      "end of cascading 50  50\n",
      "R=5 t=2 and G = 0.02  \n",
      "start of cascading 88  88\n",
      "end of cascading 83  83\n",
      "R=5 t=3 and G = 0.02  \n",
      "start of cascading 92  92\n",
      "end of cascading 87  87\n",
      "R=5 t=4 and G = 0.02  \n",
      "start of cascading 93  93\n",
      "end of cascading 88  88\n",
      "R=5 t=5 and G = 0.02  \n",
      "start of cascading 93  93\n",
      "end of cascading 88  88\n",
      "R=5 t=6 and G = 0.02  \n",
      "start of cascading 93  93\n",
      "end of cascading 88  88\n",
      "R=5 t=7 and G = 0.02  \n",
      "start of cascading 93  93\n",
      "end of cascading 88  88\n",
      "R=5 t=8 and G = 0.02  \n",
      "start of cascading 93  93\n",
      "end of cascading 88  88\n",
      "R=5 t=9 and G = 0.02  \n",
      "start of cascading 93  93\n",
      "end of cascading 88  88\n",
      "R=5 t=10 and G = 0.02  \n",
      "start of cascading 93  93\n",
      "end of cascading 88  88\n",
      "R=5 t=11 and G = 0.02  \n",
      "start of cascading 93  93\n",
      "end of cascading 88  88\n",
      "R=5 t=12 and G = 0.02  \n",
      "start of cascading 93  93\n",
      "end of cascading 88  88\n",
      "R=5 t=13 and G = 0.02  \n",
      "start of cascading 93  93\n",
      "end of cascading 88  88\n",
      "R=5 t=14 and G = 0.02  \n",
      "start of cascading 93  93\n",
      "end of cascading 88  88\n",
      "R=5 t=15 and G = 0.02  \n",
      "start of cascading 93  93\n",
      "end of cascading 88  88\n",
      "R=5 t=16 and G = 0.02  \n",
      "start of cascading 93  93\n",
      "end of cascading 88  88\n",
      "R=5 t=17 and G = 0.02  \n",
      "start of cascading 93  93\n",
      "end of cascading 88  88\n",
      "R=5 t=18 and G = 0.02  \n",
      "start of cascading 93  93\n",
      "end of cascading 88  88\n",
      "R=5 t=19 and G = 0.02  \n",
      "---------------------------------------\n",
      "R=10 t=0 and G = 0.02  \n",
      "start of cascading 0  0\n",
      "end of cascading 0  0\n",
      "R=10 t=1 and G = 0.45  \n",
      "start of cascading 55  55\n",
      "end of cascading 45  45\n",
      "R=10 t=2 and G = 0.02  \n",
      "start of cascading 88  88\n",
      "end of cascading 78  78\n",
      "R=10 t=3 and G = 0.02  \n",
      "start of cascading 92  92\n",
      "end of cascading 82  82\n",
      "R=10 t=4 and G = 0.02  \n",
      "start of cascading 93  93\n",
      "end of cascading 83  83\n",
      "R=10 t=5 and G = 0.02  \n",
      "start of cascading 93  93\n",
      "end of cascading 83  83\n",
      "R=10 t=6 and G = 0.02  \n",
      "start of cascading 93  93\n",
      "end of cascading 83  83\n",
      "R=10 t=7 and G = 0.02  \n",
      "start of cascading 93  93\n",
      "end of cascading 83  83\n",
      "R=10 t=8 and G = 0.02  \n",
      "start of cascading 93  93\n",
      "end of cascading 83  83\n",
      "R=10 t=9 and G = 0.02  \n",
      "start of cascading 93  93\n",
      "end of cascading 83  83\n",
      "R=10 t=10 and G = 0.02  \n",
      "start of cascading 93  93\n",
      "end of cascading 83  83\n",
      "R=10 t=11 and G = 0.02  \n",
      "start of cascading 93  93\n",
      "end of cascading 83  83\n",
      "R=10 t=12 and G = 0.02  \n",
      "start of cascading 93  93\n",
      "end of cascading 83  83\n",
      "R=10 t=13 and G = 0.02  \n",
      "start of cascading 93  93\n",
      "end of cascading 83  83\n",
      "R=10 t=14 and G = 0.02  \n",
      "start of cascading 93  93\n",
      "end of cascading 83  83\n",
      "R=10 t=15 and G = 0.02  \n",
      "start of cascading 93  93\n",
      "end of cascading 83  83\n",
      "R=10 t=16 and G = 0.02  \n",
      "start of cascading 93  93\n",
      "end of cascading 83  83\n",
      "R=10 t=17 and G = 0.02  \n",
      "start of cascading 93  93\n",
      "end of cascading 83  83\n",
      "R=10 t=18 and G = 0.02  \n",
      "start of cascading 93  93\n",
      "end of cascading 83  83\n",
      "R=10 t=19 and G = 0.02  \n",
      "---------------------------------------\n",
      "R=50 t=0 and G = 0.02  \n",
      "start of cascading 0  0\n",
      "end of cascading 0  0\n",
      "R=50 t=1 and G = 1.0  \n",
      "start of cascading 55  55\n",
      "end of cascading 20  20\n",
      "R=50 t=2 and G = 0.07  \n",
      "start of cascading 88  88\n",
      "end of cascading 46  46\n",
      "R=50 t=3 and G = 0.03  \n",
      "start of cascading 92  92\n",
      "end of cascading 48  48\n",
      "R=50 t=4 and G = 0.02  \n",
      "start of cascading 93  93\n",
      "end of cascading 49  49\n",
      "R=50 t=5 and G = 0.02  \n",
      "start of cascading 93  93\n",
      "end of cascading 49  49\n",
      "R=50 t=6 and G = 0.02  \n",
      "start of cascading 93  93\n",
      "end of cascading 49  49\n",
      "R=50 t=7 and G = 0.02  \n",
      "start of cascading 93  93\n",
      "end of cascading 49  49\n",
      "R=50 t=8 and G = 0.02  \n",
      "start of cascading 93  93\n",
      "end of cascading 49  49\n",
      "R=50 t=9 and G = 0.02  \n",
      "start of cascading 93  93\n",
      "end of cascading 49  49\n",
      "R=50 t=10 and G = 0.02  \n",
      "start of cascading 93  93\n",
      "end of cascading 49  49\n",
      "R=50 t=11 and G = 0.02  \n",
      "start of cascading 93  93\n",
      "end of cascading 49  49\n",
      "R=50 t=12 and G = 0.02  \n",
      "start of cascading 93  93\n",
      "end of cascading 49  49\n",
      "R=50 t=13 and G = 0.02  \n",
      "start of cascading 93  93\n",
      "end of cascading 49  49\n",
      "R=50 t=14 and G = 0.02  \n",
      "start of cascading 93  93\n",
      "end of cascading 49  49\n",
      "R=50 t=15 and G = 0.02  \n",
      "start of cascading 93  93\n",
      "end of cascading 49  49\n",
      "R=50 t=16 and G = 0.02  \n",
      "start of cascading 93  93\n",
      "end of cascading 49  49\n",
      "R=50 t=17 and G = 0.02  \n",
      "start of cascading 93  93\n",
      "end of cascading 49  49\n",
      "R=50 t=18 and G = 0.02  \n",
      "start of cascading 93  93\n",
      "end of cascading 49  49\n",
      "R=50 t=19 and G = 0.02  \n",
      "---------------------------------------\n"
     ]
    }
   ],
   "source": [
    "sizeOfGInEachDayRestoration=[[0]*numberOfdays for _ in range(len(R))]\n",
    "\n",
    "for rIndex in range(0, len(R)):\n",
    "    for restorationDay in range (0, numberOfdays):\n",
    "        failsNodesA=[]\n",
    "        failsNodesB=[]\n",
    "        ER_ER_Network.networkA.currentQueue=[0]*ER_ER_Network.networkA.numberOfNode\n",
    "        ER_ER_Network.networkB.currentQueue=[0]*ER_ER_Network.networkB.numberOfNode\n",
    "        \n",
    "\n",
    "        numberOfNodeFailedForTest = 20\n",
    "        centrallist=findingCentrality(ER_ER_Network,numberOfNodeFailedForTest,failsNodesA,failsNodesB)\n",
    "        for i in range(0,numberOfNodeFailedForTest):\n",
    "            if centrallist[i] < ER_ER_Network.networkA.numberOfNode:\n",
    "                ER_ER_Network.networkA.currentQueue[centrallist[i]]+=2*ER_ER_Network.networkA.totalQueue[centrallist[i]]\n",
    "            else:\n",
    "                ER_ER_Network.networkB.currentQueue[centrallist[i]-ER_ER_Network.networkA.numberOfNode]+=2*ER_ER_Network.networkB.totalQueue[centrallist[i]-ER_ER_Network.networkA.numberOfNode]\n",
    "         \n",
    "        \n",
    "        for dayIndex in range (1, numberOfdays):\n",
    "            if dayIndex == restorationDay:\n",
    "                startCascadingFailure(ER_ER_Network,R[rIndex],failsNodesA,failsNodesB)\n",
    "        \n",
    "            for nodeIndex in range (0, ER_ER_Network.networkA.numberOfNode): \n",
    "                ER_ER_Network.networkA.currentQueue[nodeIndex]+=75\n",
    "                if ER_ER_Network.networkA.currentQueue[nodeIndex]<100:\n",
    "                    ER_ER_Network.networkA.currentQueue[nodeIndex]=0\n",
    "                else:\n",
    "                    ER_ER_Network.networkA.currentQueue[nodeIndex]-=100\n",
    "                    if nodeIndex not in failsNodesA:\n",
    "                        failsNodesA.append(nodeIndex)\n",
    "                        distrubuteQueue(ER_ER_Network.networkA,nodeIndex,failsNodesA)\n",
    "                        if nodeIndex in ER_ER_Network.neighborA:\n",
    "                            failsNodesB.append(ER_ER_Network.neighborB[ER_ER_Network.neighborA.index(nodeIndex)])\n",
    "                            distrubuteQueue(ER_ER_Network.networkB,ER_ER_Network.neighborB[ER_ER_Network.neighborA.index(nodeIndex)],failsNodesB)\n",
    "\n",
    "\n",
    "            for nodeIndex in range (0, ER_ER_Network.networkB.numberOfNode): \n",
    "                ER_ER_Network.networkB.currentQueue[nodeIndex]+=75\n",
    "                if ER_ER_Network.networkB.currentQueue[nodeIndex]<100:\n",
    "                    ER_ER_Network.networkB.currentQueue[nodeIndex]=0\n",
    "                else:\n",
    "                    ER_ER_Network.networkB.currentQueue[nodeIndex]-=100\n",
    "                    if nodeIndex not in failsNodesB:\n",
    "                        failsNodesB.append(nodeIndex)\n",
    "                        distrubuteQueue(ER_ER_Network.networkB,nodeIndex,failsNodesB)\n",
    "                        if nodeIndex in ER_ER_Network.neighborB:\n",
    "                            failsNodesA.append(ER_ER_Network.neighborA[ER_ER_Network.neighborB.index(nodeIndex)])\n",
    "                            distrubuteQueue(ER_ER_Network.networkA,ER_ER_Network.neighborA[ER_ER_Network.neighborB.index(nodeIndex)],failsNodesA)\n",
    "           \n",
    "        sizeOfGInEachDayRestoration[rIndex][restorationDay] = sizeOfG(ER_ER_Network,failsNodesA,failsNodesB)\n",
    "        print('R={} t={} and G = {}  '.format(R[rIndex],restorationDay,sizeOfGInEachDayRestoration[rIndex][restorationDay]))\n",
    "    print('---------------------------------------')"
   ]
  },
  {
   "cell_type": "code",
   "execution_count": 20,
   "metadata": {},
   "outputs": [
    {
     "data": {
      "image/png": "[encoded data removed]",
      "text/plain": [
       "<Figure size 432x288 with 1 Axes>"
      ]
     },
     "metadata": {
      "needs_background": "light"
     },
     "output_type": "display_data"
    }
   ],
   "source": [
    "plt.ylim(top=1.05)  # adjust the top leaving bottom unchanged\n",
    "plt.ylim(bottom=-0.05)\n",
    "x=[0,1,2,3,4,5,6,7,8,9,10,11,12,13,14,15,16,17,18,19]\n",
    "for rIndex in range(0, len(R)):\n",
    "    plt.plot(x,sizeOfGInEachDayRestoration[rIndex]) # plotting by columns\n",
    "plt.gca().legend(('R={} '.format(R[0]),'R={} '.format(R[1]),'R={} '.format(R[2]),'R={} '.format(R[3])))\n",
    "plt.show()"
   ]
  },
  {
   "cell_type": "markdown",
   "metadata": {},
   "source": [
    "## 4-3- define centrality like shahpari et al."
   ]
  },
  {
   "cell_type": "markdown",
   "metadata": {},
   "source": [
    "### 4-3-1- algorithm"
   ]
  },
  {
   "cell_type": "code",
   "execution_count": 24,
   "metadata": {},
   "outputs": [],
   "source": [
    "d=0.85\n",
    "wpr=[1] *ER_ER_Network.networkA.numberOfNode\n",
    "wOut=[[0]*ER_ER_Network.networkA.numberOfNode for _ in range(ER_ER_Network.networkA.numberOfNode)]\n",
    "wIn=[[0]*ER_ER_Network.networkA.numberOfNode for _ in range(ER_ER_Network.networkA.numberOfNode)]\n",
    "for j in range (0, ER_ER_Network.networkA.numberOfNode):\n",
    "    for i in range (0, ER_ER_Network.networkA.numberOfNode):\n",
    "        sumOfIncoming=0\n",
    "        sumOfOutcoming=0\n",
    "        indicesOutcome = [p for p, x in enumerate(ER_ER_Network.networkA.data[j]) if x == 1]\n",
    "        for k in range(0,len(indicesOutcome)):\n",
    "            sumOfIncoming+=ER_ER_Network.networkA.inComing[indicesOutcome[k]]\n",
    "            sumOfOutcoming=sumOfOutcoming+ER_ER_Network.networkA.inComing[indicesOutcome[k]]\n",
    "        wIn[j][i]=ER_ER_Network.networkA.inComing[i]/max(sumOfIncoming,1)\n",
    "        wOut[j][i]=ER_ER_Network.networkA.inComing[i]/max(sumOfOutcoming,1)  \n",
    "\n",
    "for i in range (0, ER_ER_Network.networkA.numberOfNode):\n",
    "    sumOfwprs=0\n",
    "    for j in range (0, ER_ER_Network.networkA.numberOfNode):\n",
    "        if ER_ER_Network.networkA.data[j][i]==1:\n",
    "            sumOfwprs=sumOfwprs+wpr[j]*wIn[j][i]*wOut[j][i]\n",
    "    ER_ER_Network.networkA.wpr[i]=(1-d)+d*(sumOfwprs)    "
   ]
  },
  {
   "cell_type": "code",
   "execution_count": 26,
   "metadata": {},
   "outputs": [],
   "source": [
    "d=0.85\n",
    "wpr=[1] *ER_ER_Network.networkB.numberOfNode\n",
    "wOut=[[0]*ER_ER_Network.networkB.numberOfNode for _ in range(ER_ER_Network.networkB.numberOfNode)]\n",
    "wIn=[[0]*ER_ER_Network.networkB.numberOfNode for _ in range(ER_ER_Network.networkB.numberOfNode)]\n",
    "for j in range (0, ER_ER_Network.networkB.numberOfNode):\n",
    "    for i in range (0, ER_ER_Network.networkB.numberOfNode):\n",
    "        sumOfIncoming=0\n",
    "        sumOfOutcoming=0\n",
    "        indicesOutcome = [p for p, x in enumerate(ER_ER_Network.networkB.data[j]) if x == 1]\n",
    "        for k in range(0,len(indicesOutcome)):\n",
    "            sumOfIncoming+=ER_ER_Network.networkB.inComing[indicesOutcome[k]]\n",
    "            sumOfOutcoming=sumOfOutcoming+ER_ER_Network.networkB.inComing[indicesOutcome[k]]\n",
    "        wIn[j][i]=ER_ER_Network.networkB.inComing[i]/max(sumOfIncoming,1)\n",
    "        wOut[j][i]=ER_ER_Network.networkB.inComing[i]/max(sumOfOutcoming,1)  \n",
    "\n",
    "for i in range (0, ER_ER_Network.networkB.numberOfNode):\n",
    "    sumOfwprs=0\n",
    "    for j in range (0, ER_ER_Network.networkB.numberOfNode):\n",
    "        if ER_ER_Network.networkB.data[j][i]==1:\n",
    "            sumOfwprs=sumOfwprs+wpr[j]*wIn[j][i]*wOut[j][i]\n",
    "    ER_ER_Network.networkB.wpr[i]=(1-d)+d*(sumOfwprs)"
   ]
  },
  {
   "cell_type": "markdown",
   "metadata": {},
   "source": [
    "### 4-3-2- finding centrality"
   ]
  },
  {
   "cell_type": "code",
   "execution_count": 27,
   "metadata": {},
   "outputs": [],
   "source": [
    "def findingCentralityShahpari(network,numberOfCentrality,failsNodesA,failsNodeB):\n",
    "    wprA=network.networkA.wpr\n",
    "    wprB=network.networkB.wpr\n",
    "    for i in range(0,len(wprA)):\n",
    "        if i in failsNodesA:\n",
    "            wprA[i]=-2\n",
    "        if i in failsNodesB:\n",
    "            wprB[i]=-2\n",
    "    sortedwprA=list(np.argsort(wprA))\n",
    "    sortedwprA.reverse()\n",
    "    return sortedwprA[0:numberOfCentrality]"
   ]
  },
  {
   "cell_type": "markdown",
   "metadata": {},
   "source": [
    "### 4-3-3- algorithm of casecade"
   ]
  },
  {
   "cell_type": "code",
   "execution_count": 28,
   "metadata": {},
   "outputs": [
    {
     "name": "stdout",
     "output_type": "stream",
     "text": [
      "R=1 t=0 and G = 0.02  \n",
      "start of cascading 0  0\n",
      "end of cascading 0  0\n",
      "R=1 t=1 and G = 0.02  \n",
      "start of cascading 49  49\n",
      "end of cascading 49  49\n",
      "R=1 t=2 and G = 0.02  \n",
      "start of cascading 88  88\n",
      "end of cascading 87  87\n",
      "R=1 t=3 and G = 0.02  \n",
      "start of cascading 94  94\n",
      "end of cascading 93  93\n",
      "R=1 t=4 and G = 0.02  \n",
      "start of cascading 94  94\n",
      "end of cascading 93  93\n",
      "R=1 t=5 and G = 0.02  \n",
      "start of cascading 94  94\n",
      "end of cascading 93  93\n",
      "R=1 t=6 and G = 0.02  \n",
      "start of cascading 94  94\n",
      "end of cascading 93  93\n",
      "R=1 t=7 and G = 0.02  \n",
      "start of cascading 94  94\n",
      "end of cascading 93  93\n",
      "R=1 t=8 and G = 0.02  \n",
      "start of cascading 94  94\n",
      "end of cascading 93  93\n",
      "R=1 t=9 and G = 0.02  \n",
      "start of cascading 94  94\n",
      "end of cascading 93  93\n",
      "R=1 t=10 and G = 0.02  \n",
      "start of cascading 94  94\n",
      "end of cascading 93  93\n",
      "R=1 t=11 and G = 0.02  \n",
      "start of cascading 94  94\n",
      "end of cascading 93  93\n",
      "R=1 t=12 and G = 0.02  \n",
      "start of cascading 94  94\n",
      "end of cascading 93  93\n",
      "R=1 t=13 and G = 0.02  \n",
      "start of cascading 94  94\n",
      "end of cascading 93  93\n",
      "R=1 t=14 and G = 0.02  \n",
      "start of cascading 94  94\n",
      "end of cascading 93  93\n",
      "R=1 t=15 and G = 0.02  \n",
      "start of cascading 94  94\n",
      "end of cascading 93  93\n",
      "R=1 t=16 and G = 0.02  \n",
      "start of cascading 94  94\n",
      "end of cascading 93  93\n",
      "R=1 t=17 and G = 0.02  \n",
      "start of cascading 94  94\n",
      "end of cascading 93  93\n",
      "R=1 t=18 and G = 0.02  \n",
      "start of cascading 94  94\n",
      "end of cascading 93  93\n",
      "R=1 t=19 and G = 0.02  \n",
      "---------------------------------------\n",
      "R=5 t=0 and G = 0.02  \n",
      "start of cascading 0  0\n",
      "end of cascading 0  0\n",
      "R=5 t=1 and G = 0.02  \n",
      "start of cascading 49  49\n",
      "end of cascading 47  47\n",
      "R=5 t=2 and G = 0.02  \n",
      "start of cascading 88  88\n",
      "end of cascading 83  83\n",
      "R=5 t=3 and G = 0.02  \n",
      "start of cascading 94  94\n",
      "end of cascading 89  89\n",
      "R=5 t=4 and G = 0.02  \n",
      "start of cascading 94  94\n",
      "end of cascading 89  89\n",
      "R=5 t=5 and G = 0.02  \n",
      "start of cascading 94  94\n",
      "end of cascading 89  89\n",
      "R=5 t=6 and G = 0.02  \n",
      "start of cascading 94  94\n",
      "end of cascading 89  89\n",
      "R=5 t=7 and G = 0.02  \n",
      "start of cascading 94  94\n",
      "end of cascading 89  89\n",
      "R=5 t=8 and G = 0.02  \n",
      "start of cascading 94  94\n",
      "end of cascading 89  89\n",
      "R=5 t=9 and G = 0.02  \n",
      "start of cascading 94  94\n",
      "end of cascading 89  89\n",
      "R=5 t=10 and G = 0.02  \n",
      "start of cascading 94  94\n",
      "end of cascading 89  89\n",
      "R=5 t=11 and G = 0.02  \n",
      "start of cascading 94  94\n",
      "end of cascading 89  89\n",
      "R=5 t=12 and G = 0.02  \n",
      "start of cascading 94  94\n",
      "end of cascading 89  89\n",
      "R=5 t=13 and G = 0.02  \n",
      "start of cascading 94  94\n",
      "end of cascading 89  89\n",
      "R=5 t=14 and G = 0.02  \n",
      "start of cascading 94  94\n",
      "end of cascading 89  89\n",
      "R=5 t=15 and G = 0.02  \n",
      "start of cascading 94  94\n",
      "end of cascading 89  89\n",
      "R=5 t=16 and G = 0.02  \n",
      "start of cascading 94  94\n",
      "end of cascading 89  89\n",
      "R=5 t=17 and G = 0.02  \n",
      "start of cascading 94  94\n",
      "end of cascading 89  89\n",
      "R=5 t=18 and G = 0.02  \n",
      "start of cascading 94  94\n",
      "end of cascading 89  89\n",
      "R=5 t=19 and G = 0.02  \n",
      "---------------------------------------\n",
      "R=10 t=0 and G = 0.02  \n",
      "start of cascading 0  0\n",
      "end of cascading 0  0\n",
      "R=10 t=1 and G = 0.11  \n",
      "start of cascading 49  49\n",
      "end of cascading 44  44\n",
      "R=10 t=2 and G = 0.02  \n",
      "start of cascading 88  88\n",
      "end of cascading 80  80\n",
      "R=10 t=3 and G = 0.02  \n",
      "start of cascading 94  94\n",
      "end of cascading 85  85\n",
      "R=10 t=4 and G = 0.02  \n",
      "start of cascading 94  94\n",
      "end of cascading 85  85\n",
      "R=10 t=5 and G = 0.02  \n",
      "start of cascading 94  94\n",
      "end of cascading 85  85\n",
      "R=10 t=6 and G = 0.02  \n",
      "start of cascading 94  94\n",
      "end of cascading 85  85\n",
      "R=10 t=7 and G = 0.02  \n",
      "start of cascading 94  94\n",
      "end of cascading 85  85\n",
      "R=10 t=8 and G = 0.02  \n",
      "start of cascading 94  94\n",
      "end of cascading 85  85\n",
      "R=10 t=9 and G = 0.02  \n",
      "start of cascading 94  94\n",
      "end of cascading 85  85\n",
      "R=10 t=10 and G = 0.02  \n",
      "start of cascading 94  94\n",
      "end of cascading 85  85\n",
      "R=10 t=11 and G = 0.02  \n",
      "start of cascading 94  94\n",
      "end of cascading 85  85\n",
      "R=10 t=12 and G = 0.02  \n",
      "start of cascading 94  94\n",
      "end of cascading 85  85\n",
      "R=10 t=13 and G = 0.02  \n",
      "start of cascading 94  94\n",
      "end of cascading 85  85\n",
      "R=10 t=14 and G = 0.02  \n",
      "start of cascading 94  94\n",
      "end of cascading 85  85\n",
      "R=10 t=15 and G = 0.02  \n",
      "start of cascading 94  94\n",
      "end of cascading 85  85\n",
      "R=10 t=16 and G = 0.02  \n",
      "start of cascading 94  94\n",
      "end of cascading 85  85\n",
      "R=10 t=17 and G = 0.02  \n",
      "start of cascading 94  94\n",
      "end of cascading 85  85\n",
      "R=10 t=18 and G = 0.02  \n",
      "start of cascading 94  94\n",
      "end of cascading 85  85\n",
      "R=10 t=19 and G = 0.02  \n",
      "---------------------------------------\n",
      "R=50 t=0 and G = 0.02  \n",
      "start of cascading 0  0\n",
      "end of cascading 0  0\n",
      "R=50 t=1 and G = 0.7  \n",
      "start of cascading 49  49\n",
      "end of cascading 23  23\n",
      "R=50 t=2 and G = 0.05  \n",
      "start of cascading 88  88\n",
      "end of cascading 47  47\n",
      "R=50 t=3 and G = 0.02  \n",
      "start of cascading 94  94\n",
      "end of cascading 51  51\n",
      "R=50 t=4 and G = 0.02  \n",
      "start of cascading 94  94\n",
      "end of cascading 51  51\n",
      "R=50 t=5 and G = 0.02  \n",
      "start of cascading 94  94\n",
      "end of cascading 51  51\n",
      "R=50 t=6 and G = 0.02  \n",
      "start of cascading 94  94\n",
      "end of cascading 51  51\n",
      "R=50 t=7 and G = 0.02  \n",
      "start of cascading 94  94\n",
      "end of cascading 51  51\n",
      "R=50 t=8 and G = 0.02  \n",
      "start of cascading 94  94\n",
      "end of cascading 51  51\n",
      "R=50 t=9 and G = 0.02  \n",
      "start of cascading 94  94\n",
      "end of cascading 51  51\n",
      "R=50 t=10 and G = 0.02  \n",
      "start of cascading 94  94\n",
      "end of cascading 51  51\n",
      "R=50 t=11 and G = 0.02  \n",
      "start of cascading 94  94\n",
      "end of cascading 51  51\n",
      "R=50 t=12 and G = 0.02  \n",
      "start of cascading 94  94\n",
      "end of cascading 51  51\n",
      "R=50 t=13 and G = 0.02  \n",
      "start of cascading 94  94\n",
      "end of cascading 51  51\n",
      "R=50 t=14 and G = 0.02  \n",
      "start of cascading 94  94\n",
      "end of cascading 51  51\n",
      "R=50 t=15 and G = 0.02  \n",
      "start of cascading 94  94\n",
      "end of cascading 51  51\n",
      "R=50 t=16 and G = 0.02  \n",
      "start of cascading 94  94\n",
      "end of cascading 51  51\n",
      "R=50 t=17 and G = 0.02  \n",
      "start of cascading 94  94\n",
      "end of cascading 51  51\n",
      "R=50 t=18 and G = 0.02  \n",
      "start of cascading 94  94\n",
      "end of cascading 51  51\n",
      "R=50 t=19 and G = 0.02  \n",
      "---------------------------------------\n"
     ]
    }
   ],
   "source": [
    "sizeOfGInEachDayRestoration=[[0]*numberOfdays for _ in range(len(R))]\n",
    "\n",
    "for rIndex in range(0, len(R)):\n",
    "    for restorationDay in range (0, numberOfdays):\n",
    "        failsNodesA=[]\n",
    "        failsNodesB=[]\n",
    "        ER_ER_Network.networkA.currentQueue=[0]*ER_ER_Network.networkA.numberOfNode\n",
    "        ER_ER_Network.networkB.currentQueue=[0]*ER_ER_Network.networkB.numberOfNode\n",
    "        \n",
    "\n",
    "        numberOfNodeFailedForTest = 20\n",
    "        centrallist=findingCentralityShahpari(ER_ER_Network,numberOfNodeFailedForTest,failsNodesA,failsNodesB)\n",
    "        for i in range(0,numberOfNodeFailedForTest):\n",
    "            if centrallist[i] < ER_ER_Network.networkA.numberOfNode:\n",
    "                ER_ER_Network.networkA.currentQueue[centrallist[i]]+=2*ER_ER_Network.networkA.totalQueue[centrallist[i]]\n",
    "            else:\n",
    "                ER_ER_Network.networkB.currentQueue[centrallist[i]-ER_ER_Network.networkA.numberOfNode]+=2*ER_ER_Network.networkB.totalQueue[centrallist[i]-ER_ER_Network.networkA.numberOfNode]\n",
    "         \n",
    "        \n",
    "        for dayIndex in range (1, numberOfdays):\n",
    "            if dayIndex == restorationDay:\n",
    "                startCascadingFailure(ER_ER_Network,R[rIndex],failsNodesA,failsNodesB)\n",
    "        \n",
    "            for nodeIndex in range (0, ER_ER_Network.networkA.numberOfNode): \n",
    "                ER_ER_Network.networkA.currentQueue[nodeIndex]+=75\n",
    "                if ER_ER_Network.networkA.currentQueue[nodeIndex]<100:\n",
    "                    ER_ER_Network.networkA.currentQueue[nodeIndex]=0\n",
    "                else:\n",
    "                    ER_ER_Network.networkA.currentQueue[nodeIndex]-=100\n",
    "                    if nodeIndex not in failsNodesA:\n",
    "                        failsNodesA.append(nodeIndex)\n",
    "                        distrubuteQueue(ER_ER_Network.networkA,nodeIndex,failsNodesA)\n",
    "                        if nodeIndex in ER_ER_Network.neighborA:\n",
    "                            failsNodesB.append(ER_ER_Network.neighborB[ER_ER_Network.neighborA.index(nodeIndex)])\n",
    "                            distrubuteQueue(ER_ER_Network.networkB,ER_ER_Network.neighborB[ER_ER_Network.neighborA.index(nodeIndex)],failsNodesB)\n",
    "\n",
    "\n",
    "            for nodeIndex in range (0, ER_ER_Network.networkB.numberOfNode): \n",
    "                ER_ER_Network.networkB.currentQueue[nodeIndex]+=75\n",
    "                if ER_ER_Network.networkB.currentQueue[nodeIndex]<100:\n",
    "                    ER_ER_Network.networkB.currentQueue[nodeIndex]=0\n",
    "                else:\n",
    "                    ER_ER_Network.networkB.currentQueue[nodeIndex]-=100\n",
    "                    if nodeIndex not in failsNodesB:\n",
    "                        failsNodesB.append(nodeIndex)\n",
    "                        distrubuteQueue(ER_ER_Network.networkB,nodeIndex,failsNodesB)\n",
    "                        if nodeIndex in ER_ER_Network.neighborB:\n",
    "                            failsNodesA.append(ER_ER_Network.neighborA[ER_ER_Network.neighborB.index(nodeIndex)])\n",
    "                            distrubuteQueue(ER_ER_Network.networkA,ER_ER_Network.neighborA[ER_ER_Network.neighborB.index(nodeIndex)],failsNodesA)\n",
    "           \n",
    "        sizeOfGInEachDayRestoration[rIndex][restorationDay] = sizeOfG(ER_ER_Network,failsNodesA,failsNodesB)\n",
    "        print('R={} t={} and G = {}  '.format(R[rIndex],restorationDay,sizeOfGInEachDayRestoration[rIndex][restorationDay]))\n",
    "    print('---------------------------------------')"
   ]
  },
  {
   "cell_type": "code",
   "execution_count": 29,
   "metadata": {},
   "outputs": [
    {
     "data": {
      "image/png": "[encoded data removed]",
      "text/plain": [
       "<Figure size 432x288 with 1 Axes>"
      ]
     },
     "metadata": {
      "needs_background": "light"
     },
     "output_type": "display_data"
    }
   ],
   "source": [
    "plt.ylim(top=1.05)  # adjust the top leaving bottom unchanged\n",
    "plt.ylim(bottom=-0.05)\n",
    "x=[0,1,2,3,4,5,6,7,8,9,10,11,12,13,14,15,16,17,18,19]\n",
    "for rIndex in range(0, len(R)):\n",
    "    plt.plot(x,sizeOfGInEachDayRestoration[rIndex]) # plotting by columns\n",
    "plt.gca().legend(('R={} '.format(R[0]),'R={} '.format(R[1]),'R={} '.format(R[2]),'R={} '.format(R[3])))\n",
    "plt.show()"
   ]
  },
  {
   "cell_type": "markdown",
   "metadata": {},
   "source": [
    "# 5- plotting resualt"
   ]
  },
  {
   "cell_type": "code",
   "execution_count": null,
   "metadata": {},
   "outputs": [],
   "source": [
    "import networkx as nx\n",
    "G = nx.Graph()"
   ]
  },
  {
   "cell_type": "code",
   "execution_count": null,
   "metadata": {},
   "outputs": [],
   "source": [
    "G = nx.Graph()\n",
    "G.add_nodes_from([9,2,9,8,9,0,6,5,5])\n",
    "G.add_edges_from([(1,2),(0,2)])\n",
    "nx.draw(G, with_labels=True) \n",
    "plt.show(nx)"
   ]
  },
  {
   "cell_type": "code",
   "execution_count": null,
   "metadata": {},
   "outputs": [],
   "source": [
    "G"
   ]
  },
  {
   "cell_type": "code",
   "execution_count": null,
   "metadata": {},
   "outputs": [],
   "source": [
    "gggggg=[1,8,9,4,6,7,9,0,2,3,4]"
   ]
  },
  {
   "cell_type": "code",
   "execution_count": null,
   "metadata": {},
   "outputs": [],
   "source": [
    "g2g3=list(np.argsort(gggggg))"
   ]
  },
  {
   "cell_type": "code",
   "execution_count": null,
   "metadata": {},
   "outputs": [],
   "source": [
    "g2g3"
   ]
  },
  {
   "cell_type": "code",
   "execution_count": null,
   "metadata": {},
   "outputs": [],
   "source": [
    "def fff(B):\n",
    "    B=[4,9,8,7,3]\n",
    "    B=list(filter(lambda a: a != 8, B))\n",
    "    return [B,B]\n",
    "h=[7,8,2]\n",
    "fff(h)\n",
    "h=fff(h)\n",
    "print(h[0])"
   ]
  },
  {
   "cell_type": "code",
   "execution_count": null,
   "metadata": {},
   "outputs": [],
   "source": [
    "h[0]"
   ]
  },
  {
   "cell_type": "code",
   "execution_count": null,
   "metadata": {},
   "outputs": [],
   "source": [
    "f=nx.gnm_random_graph(100, sum(np.random.poisson(1, size=100)))"
   ]
  },
  {
   "cell_type": "code",
   "execution_count": null,
   "metadata": {},
   "outputs": [],
   "source": [
    "f.has_edge(70,70)"
   ]
  },
  {
   "cell_type": "code",
   "execution_count": null,
   "metadata": {},
   "outputs": [],
   "source": [
    "nx.draw(f, with_labels=True) \n",
    "plt.show(nx)"
   ]
  },
  {
   "cell_type": "code",
   "execution_count": null,
   "metadata": {},
   "outputs": [],
   "source": []
  }
 ],
 "metadata": {
  "kernelspec": {
   "display_name": "Python 3",
   "language": "python",
   "name": "python3"
  },
  "language_info": {
   "codemirror_mode": {
    "name": "ipython",
    "version": 3
   },
   "file_extension": ".py",
   "mimetype": "text/x-python",
   "name": "python",
   "nbconvert_exporter": "python",
   "pygments_lexer": "ipython3",
   "version": "3.7.6"
  }
 },
 "nbformat": 4,
 "nbformat_minor": 2
}
